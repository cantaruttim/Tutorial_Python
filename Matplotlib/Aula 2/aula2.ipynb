{
  "cells": [
    {
      "cell_type": "markdown",
      "metadata": {
        "id": "KdL5nTl1XH16"
      },
      "source": [
        "# Parte 1\n",
        "## Lendo o arquivo .csv + gráfico simples"
      ]
    },
    {
      "cell_type": "code",
      "execution_count": 1,
      "metadata": {
        "id": "QxHnPNdkXH19"
      },
      "outputs": [],
      "source": [
        "import pandas as pd\n",
        "import numpy as np\n",
        "import matplotlib.pyplot as plt"
      ]
    },
    {
      "cell_type": "code",
      "execution_count": 2,
      "metadata": {
        "colab": {
          "base_uri": "https://localhost:8080/",
          "height": 677
        },
        "id": "Xn_W-h4UXH1-",
        "outputId": "028dbfb4-2205-463a-afa7-dbf6885df04f"
      },
      "outputs": [
        {
          "output_type": "execute_result",
          "data": {
            "text/plain": [
              "    Experiencia  salario\n",
              "0             1     3300\n",
              "1             2     3500\n",
              "2             3     3600\n",
              "3             4     4000\n",
              "4             5     4100\n",
              "5             6     4500\n",
              "6             7     5000\n",
              "7             8     5500\n",
              "8             9     5580\n",
              "9            10     6000\n",
              "10           11     6250\n",
              "11           12     6300\n",
              "12           13     6380\n",
              "13           14     6500\n",
              "14           15     8000\n",
              "15           16     8500\n",
              "16           17     9000\n",
              "17           18    10500\n",
              "18           19    12000\n",
              "19           20    12500"
            ],
            "text/html": [
              "\n",
              "\n",
              "  <div id=\"df-3f24b4a4-2254-4960-98d7-e09c1c167f82\">\n",
              "    <div class=\"colab-df-container\">\n",
              "      <div>\n",
              "<style scoped>\n",
              "    .dataframe tbody tr th:only-of-type {\n",
              "        vertical-align: middle;\n",
              "    }\n",
              "\n",
              "    .dataframe tbody tr th {\n",
              "        vertical-align: top;\n",
              "    }\n",
              "\n",
              "    .dataframe thead th {\n",
              "        text-align: right;\n",
              "    }\n",
              "</style>\n",
              "<table border=\"1\" class=\"dataframe\">\n",
              "  <thead>\n",
              "    <tr style=\"text-align: right;\">\n",
              "      <th></th>\n",
              "      <th>Experiencia</th>\n",
              "      <th>salario</th>\n",
              "    </tr>\n",
              "  </thead>\n",
              "  <tbody>\n",
              "    <tr>\n",
              "      <th>0</th>\n",
              "      <td>1</td>\n",
              "      <td>3300</td>\n",
              "    </tr>\n",
              "    <tr>\n",
              "      <th>1</th>\n",
              "      <td>2</td>\n",
              "      <td>3500</td>\n",
              "    </tr>\n",
              "    <tr>\n",
              "      <th>2</th>\n",
              "      <td>3</td>\n",
              "      <td>3600</td>\n",
              "    </tr>\n",
              "    <tr>\n",
              "      <th>3</th>\n",
              "      <td>4</td>\n",
              "      <td>4000</td>\n",
              "    </tr>\n",
              "    <tr>\n",
              "      <th>4</th>\n",
              "      <td>5</td>\n",
              "      <td>4100</td>\n",
              "    </tr>\n",
              "    <tr>\n",
              "      <th>5</th>\n",
              "      <td>6</td>\n",
              "      <td>4500</td>\n",
              "    </tr>\n",
              "    <tr>\n",
              "      <th>6</th>\n",
              "      <td>7</td>\n",
              "      <td>5000</td>\n",
              "    </tr>\n",
              "    <tr>\n",
              "      <th>7</th>\n",
              "      <td>8</td>\n",
              "      <td>5500</td>\n",
              "    </tr>\n",
              "    <tr>\n",
              "      <th>8</th>\n",
              "      <td>9</td>\n",
              "      <td>5580</td>\n",
              "    </tr>\n",
              "    <tr>\n",
              "      <th>9</th>\n",
              "      <td>10</td>\n",
              "      <td>6000</td>\n",
              "    </tr>\n",
              "    <tr>\n",
              "      <th>10</th>\n",
              "      <td>11</td>\n",
              "      <td>6250</td>\n",
              "    </tr>\n",
              "    <tr>\n",
              "      <th>11</th>\n",
              "      <td>12</td>\n",
              "      <td>6300</td>\n",
              "    </tr>\n",
              "    <tr>\n",
              "      <th>12</th>\n",
              "      <td>13</td>\n",
              "      <td>6380</td>\n",
              "    </tr>\n",
              "    <tr>\n",
              "      <th>13</th>\n",
              "      <td>14</td>\n",
              "      <td>6500</td>\n",
              "    </tr>\n",
              "    <tr>\n",
              "      <th>14</th>\n",
              "      <td>15</td>\n",
              "      <td>8000</td>\n",
              "    </tr>\n",
              "    <tr>\n",
              "      <th>15</th>\n",
              "      <td>16</td>\n",
              "      <td>8500</td>\n",
              "    </tr>\n",
              "    <tr>\n",
              "      <th>16</th>\n",
              "      <td>17</td>\n",
              "      <td>9000</td>\n",
              "    </tr>\n",
              "    <tr>\n",
              "      <th>17</th>\n",
              "      <td>18</td>\n",
              "      <td>10500</td>\n",
              "    </tr>\n",
              "    <tr>\n",
              "      <th>18</th>\n",
              "      <td>19</td>\n",
              "      <td>12000</td>\n",
              "    </tr>\n",
              "    <tr>\n",
              "      <th>19</th>\n",
              "      <td>20</td>\n",
              "      <td>12500</td>\n",
              "    </tr>\n",
              "  </tbody>\n",
              "</table>\n",
              "</div>\n",
              "      <button class=\"colab-df-convert\" onclick=\"convertToInteractive('df-3f24b4a4-2254-4960-98d7-e09c1c167f82')\"\n",
              "              title=\"Convert this dataframe to an interactive table.\"\n",
              "              style=\"display:none;\">\n",
              "\n",
              "  <svg xmlns=\"http://www.w3.org/2000/svg\" height=\"24px\"viewBox=\"0 0 24 24\"\n",
              "       width=\"24px\">\n",
              "    <path d=\"M0 0h24v24H0V0z\" fill=\"none\"/>\n",
              "    <path d=\"M18.56 5.44l.94 2.06.94-2.06 2.06-.94-2.06-.94-.94-2.06-.94 2.06-2.06.94zm-11 1L8.5 8.5l.94-2.06 2.06-.94-2.06-.94L8.5 2.5l-.94 2.06-2.06.94zm10 10l.94 2.06.94-2.06 2.06-.94-2.06-.94-.94-2.06-.94 2.06-2.06.94z\"/><path d=\"M17.41 7.96l-1.37-1.37c-.4-.4-.92-.59-1.43-.59-.52 0-1.04.2-1.43.59L10.3 9.45l-7.72 7.72c-.78.78-.78 2.05 0 2.83L4 21.41c.39.39.9.59 1.41.59.51 0 1.02-.2 1.41-.59l7.78-7.78 2.81-2.81c.8-.78.8-2.07 0-2.86zM5.41 20L4 18.59l7.72-7.72 1.47 1.35L5.41 20z\"/>\n",
              "  </svg>\n",
              "      </button>\n",
              "\n",
              "\n",
              "\n",
              "    <div id=\"df-cb1d8bab-c4c7-4aa0-acf6-917d5b300cbf\">\n",
              "      <button class=\"colab-df-quickchart\" onclick=\"quickchart('df-cb1d8bab-c4c7-4aa0-acf6-917d5b300cbf')\"\n",
              "              title=\"Suggest charts.\"\n",
              "              style=\"display:none;\">\n",
              "\n",
              "<svg xmlns=\"http://www.w3.org/2000/svg\" height=\"24px\"viewBox=\"0 0 24 24\"\n",
              "     width=\"24px\">\n",
              "    <g>\n",
              "        <path d=\"M19 3H5c-1.1 0-2 .9-2 2v14c0 1.1.9 2 2 2h14c1.1 0 2-.9 2-2V5c0-1.1-.9-2-2-2zM9 17H7v-7h2v7zm4 0h-2V7h2v10zm4 0h-2v-4h2v4z\"/>\n",
              "    </g>\n",
              "</svg>\n",
              "      </button>\n",
              "    </div>\n",
              "\n",
              "<style>\n",
              "  .colab-df-quickchart {\n",
              "    background-color: #E8F0FE;\n",
              "    border: none;\n",
              "    border-radius: 50%;\n",
              "    cursor: pointer;\n",
              "    display: none;\n",
              "    fill: #1967D2;\n",
              "    height: 32px;\n",
              "    padding: 0 0 0 0;\n",
              "    width: 32px;\n",
              "  }\n",
              "\n",
              "  .colab-df-quickchart:hover {\n",
              "    background-color: #E2EBFA;\n",
              "    box-shadow: 0px 1px 2px rgba(60, 64, 67, 0.3), 0px 1px 3px 1px rgba(60, 64, 67, 0.15);\n",
              "    fill: #174EA6;\n",
              "  }\n",
              "\n",
              "  [theme=dark] .colab-df-quickchart {\n",
              "    background-color: #3B4455;\n",
              "    fill: #D2E3FC;\n",
              "  }\n",
              "\n",
              "  [theme=dark] .colab-df-quickchart:hover {\n",
              "    background-color: #434B5C;\n",
              "    box-shadow: 0px 1px 3px 1px rgba(0, 0, 0, 0.15);\n",
              "    filter: drop-shadow(0px 1px 2px rgba(0, 0, 0, 0.3));\n",
              "    fill: #FFFFFF;\n",
              "  }\n",
              "</style>\n",
              "\n",
              "    <script>\n",
              "      async function quickchart(key) {\n",
              "        const containerElement = document.querySelector('#' + key);\n",
              "        const charts = await google.colab.kernel.invokeFunction(\n",
              "            'suggestCharts', [key], {});\n",
              "      }\n",
              "    </script>\n",
              "\n",
              "      <script>\n",
              "\n",
              "function displayQuickchartButton(domScope) {\n",
              "  let quickchartButtonEl =\n",
              "    domScope.querySelector('#df-cb1d8bab-c4c7-4aa0-acf6-917d5b300cbf button.colab-df-quickchart');\n",
              "  quickchartButtonEl.style.display =\n",
              "    google.colab.kernel.accessAllowed ? 'block' : 'none';\n",
              "}\n",
              "\n",
              "        displayQuickchartButton(document);\n",
              "      </script>\n",
              "      <style>\n",
              "    .colab-df-container {\n",
              "      display:flex;\n",
              "      flex-wrap:wrap;\n",
              "      gap: 12px;\n",
              "    }\n",
              "\n",
              "    .colab-df-convert {\n",
              "      background-color: #E8F0FE;\n",
              "      border: none;\n",
              "      border-radius: 50%;\n",
              "      cursor: pointer;\n",
              "      display: none;\n",
              "      fill: #1967D2;\n",
              "      height: 32px;\n",
              "      padding: 0 0 0 0;\n",
              "      width: 32px;\n",
              "    }\n",
              "\n",
              "    .colab-df-convert:hover {\n",
              "      background-color: #E2EBFA;\n",
              "      box-shadow: 0px 1px 2px rgba(60, 64, 67, 0.3), 0px 1px 3px 1px rgba(60, 64, 67, 0.15);\n",
              "      fill: #174EA6;\n",
              "    }\n",
              "\n",
              "    [theme=dark] .colab-df-convert {\n",
              "      background-color: #3B4455;\n",
              "      fill: #D2E3FC;\n",
              "    }\n",
              "\n",
              "    [theme=dark] .colab-df-convert:hover {\n",
              "      background-color: #434B5C;\n",
              "      box-shadow: 0px 1px 3px 1px rgba(0, 0, 0, 0.15);\n",
              "      filter: drop-shadow(0px 1px 2px rgba(0, 0, 0, 0.3));\n",
              "      fill: #FFFFFF;\n",
              "    }\n",
              "  </style>\n",
              "\n",
              "      <script>\n",
              "        const buttonEl =\n",
              "          document.querySelector('#df-3f24b4a4-2254-4960-98d7-e09c1c167f82 button.colab-df-convert');\n",
              "        buttonEl.style.display =\n",
              "          google.colab.kernel.accessAllowed ? 'block' : 'none';\n",
              "\n",
              "        async function convertToInteractive(key) {\n",
              "          const element = document.querySelector('#df-3f24b4a4-2254-4960-98d7-e09c1c167f82');\n",
              "          const dataTable =\n",
              "            await google.colab.kernel.invokeFunction('convertToInteractive',\n",
              "                                                     [key], {});\n",
              "          if (!dataTable) return;\n",
              "\n",
              "          const docLinkHtml = 'Like what you see? Visit the ' +\n",
              "            '<a target=\"_blank\" href=https://colab.research.google.com/notebooks/data_table.ipynb>data table notebook</a>'\n",
              "            + ' to learn more about interactive tables.';\n",
              "          element.innerHTML = '';\n",
              "          dataTable['output_type'] = 'display_data';\n",
              "          await google.colab.output.renderOutput(dataTable, element);\n",
              "          const docLink = document.createElement('div');\n",
              "          docLink.innerHTML = docLinkHtml;\n",
              "          element.appendChild(docLink);\n",
              "        }\n",
              "      </script>\n",
              "    </div>\n",
              "  </div>\n"
            ]
          },
          "metadata": {},
          "execution_count": 2
        }
      ],
      "source": [
        "df = pd.read_csv('dados.csv', sep = ';')\n",
        "df"
      ]
    },
    {
      "cell_type": "code",
      "execution_count": 3,
      "metadata": {
        "colab": {
          "base_uri": "https://localhost:8080/"
        },
        "id": "8_1gOu3IXH1_",
        "outputId": "85f00391-d733-404d-ad7d-8bb08262e26d"
      },
      "outputs": [
        {
          "output_type": "stream",
          "name": "stdout",
          "text": [
            "<class 'pandas.core.frame.DataFrame'>\n",
            "RangeIndex: 20 entries, 0 to 19\n",
            "Data columns (total 2 columns):\n",
            " #   Column       Non-Null Count  Dtype\n",
            "---  ------       --------------  -----\n",
            " 0   Experiencia  20 non-null     int64\n",
            " 1   salario      20 non-null     int64\n",
            "dtypes: int64(2)\n",
            "memory usage: 448.0 bytes\n"
          ]
        }
      ],
      "source": [
        "df.info()"
      ]
    },
    {
      "cell_type": "code",
      "execution_count": 4,
      "metadata": {
        "colab": {
          "base_uri": "https://localhost:8080/"
        },
        "id": "ACAExf57XH2A",
        "outputId": "f8ef12e0-b275-4867-c3bd-139ba35c3aec"
      },
      "outputs": [
        {
          "output_type": "execute_result",
          "data": {
            "text/plain": [
              "0      1\n",
              "1      2\n",
              "2      3\n",
              "3      4\n",
              "4      5\n",
              "5      6\n",
              "6      7\n",
              "7      8\n",
              "8      9\n",
              "9     10\n",
              "10    11\n",
              "11    12\n",
              "12    13\n",
              "13    14\n",
              "14    15\n",
              "15    16\n",
              "16    17\n",
              "17    18\n",
              "18    19\n",
              "19    20\n",
              "Name: Experiencia, dtype: int64"
            ]
          },
          "metadata": {},
          "execution_count": 4
        }
      ],
      "source": [
        "# Podemos selecionar apenas uma coluna do DataFrame\n",
        "df['Experiencia']"
      ]
    },
    {
      "cell_type": "code",
      "execution_count": 5,
      "metadata": {
        "colab": {
          "base_uri": "https://localhost:8080/"
        },
        "id": "LyWbSF7iXH2A",
        "outputId": "81e571f0-b843-4b95-a244-3a2bac04a6b2"
      },
      "outputs": [
        {
          "output_type": "execute_result",
          "data": {
            "text/plain": [
              "array([ 1,  2,  3,  4,  5,  6,  7,  8,  9, 10, 11, 12, 13, 14, 15, 16, 17,\n",
              "       18, 19, 20])"
            ]
          },
          "metadata": {},
          "execution_count": 5
        }
      ],
      "source": [
        "# Podemos transformar ele em um array (precisamos do Numpy)\n",
        "\n",
        "df['Experiencia'].values"
      ]
    },
    {
      "cell_type": "code",
      "execution_count": 6,
      "metadata": {
        "colab": {
          "base_uri": "https://localhost:8080/"
        },
        "id": "h47__iftXH2A",
        "outputId": "502c82b5-8cad-412c-cda7-9f13c2682441"
      },
      "outputs": [
        {
          "output_type": "execute_result",
          "data": {
            "text/plain": [
              "array([ 3300,  3500,  3600,  4000,  4100,  4500,  5000,  5500,  5580,\n",
              "        6000,  6250,  6300,  6380,  6500,  8000,  8500,  9000, 10500,\n",
              "       12000, 12500])"
            ]
          },
          "metadata": {},
          "execution_count": 6
        }
      ],
      "source": [
        "df['salario'].values"
      ]
    },
    {
      "cell_type": "code",
      "execution_count": 7,
      "metadata": {
        "colab": {
          "base_uri": "https://localhost:8080/",
          "height": 538
        },
        "id": "EfvYCgMXXH2B",
        "outputId": "61012364-8848-46e8-e335-1655e2b0cc76"
      },
      "outputs": [
        {
          "output_type": "display_data",
          "data": {
            "text/plain": [
              "<Figure size 2000x800 with 1 Axes>"
            ],
            "image/png": "[encoded data removed]"
          },
          "metadata": {}
        }
      ],
      "source": [
        "plt.figure(figsize=(20,8))\n",
        "plt.style.use(\"bmh\")\n",
        "\n",
        "plt.title(\"Salario dos Desenvolvedores\")\n",
        "# Passando os dados do dataframe para o gráfico\n",
        "\n",
        "plt.plot(df['Experiencia'].values, df['salario'].values,\n",
        "         color = 'black', linestyle = '-.' ,marker = 'o')\n",
        "\n",
        "plt.grid(True)\n",
        "plt.show()"
      ]
    },
    {
      "cell_type": "markdown",
      "metadata": {
        "id": "mfUGAjQnXH2B"
      },
      "source": [
        "# Parte 2 : Adicionando a equação da reta no gráfico"
      ]
    },
    {
      "cell_type": "code",
      "execution_count": 8,
      "metadata": {
        "id": "BAMMRmNlXH2B"
      },
      "outputs": [],
      "source": [
        "### VAMOS ADICIONAR A EQUAÇAO DA RETA NO GRÁFICO\n",
        "## Método .iloc\n",
        "\n",
        "# df['Experiencia'].values\n",
        "X = df.iloc[:, 0].values\n",
        "y = df.iloc[:, 1].values"
      ]
    },
    {
      "cell_type": "code",
      "execution_count": 9,
      "metadata": {
        "colab": {
          "base_uri": "https://localhost:8080/"
        },
        "id": "ekNcycQ4XH2C",
        "outputId": "35a3df3e-be21-4bb2-e546-1874a8ace8fa"
      },
      "outputs": [
        {
          "output_type": "stream",
          "name": "stdout",
          "text": [
            "Menor valor de X: 1 ; Maior valor de X: 20\n",
            "Menor valor de y: 3300 ; Maior valor de y: 12500\n",
            "Valor de X e de y None None\n"
          ]
        }
      ],
      "source": [
        "print( \"Valor de X e de y\",\n",
        "\n",
        "    print('Menor valor de X:', np.min(X), ';',\n",
        "          'Maior valor de X:', np.max(X)) ,\n",
        "    print('Menor valor de y:', np.min(y), ';',\n",
        "          'Maior valor de y:', np.max(y))\n",
        "\n",
        ")"
      ]
    },
    {
      "cell_type": "markdown",
      "source": [
        "$$m = \\frac{y1 - y2}{X1 - X2}$$"
      ],
      "metadata": {
        "id": "dBrIg7pZbxOu"
      }
    },
    {
      "cell_type": "code",
      "execution_count": 10,
      "metadata": {
        "colab": {
          "base_uri": "https://localhost:8080/"
        },
        "id": "SzJHsowCXH2C",
        "outputId": "f1fa4ba2-4d38-4fd1-a79a-4f8fe600d55c"
      },
      "outputs": [
        {
          "output_type": "execute_result",
          "data": {
            "text/plain": [
              "484.2105263157895"
            ]
          },
          "metadata": {},
          "execution_count": 10
        }
      ],
      "source": [
        "m = ( (np.max(y) - np.min(y)) / (np.max(X) - np.min(X) ) )\n",
        "m"
      ]
    },
    {
      "cell_type": "markdown",
      "source": [
        "$$b = y - (m * X1)$$"
      ],
      "metadata": {
        "id": "uO6l3RtIb8DF"
      }
    },
    {
      "cell_type": "code",
      "execution_count": 11,
      "metadata": {
        "colab": {
          "base_uri": "https://localhost:8080/"
        },
        "id": "dJeACLNfXH2D",
        "outputId": "1f150c72-ee02-4a39-edb3-3a91bc7f6512"
      },
      "outputs": [
        {
          "output_type": "execute_result",
          "data": {
            "text/plain": [
              "2815.7894736842104"
            ]
          },
          "metadata": {},
          "execution_count": 11
        }
      ],
      "source": [
        "b = np.min(y) - m * np.min(X)\n",
        "b"
      ]
    },
    {
      "cell_type": "code",
      "execution_count": 12,
      "metadata": {
        "colab": {
          "base_uri": "https://localhost:8080/"
        },
        "id": "jpa7cBwzXH2D",
        "outputId": "463a34aa-0e62-46d8-e0d3-aefa534c29cb"
      },
      "outputs": [
        {
          "output_type": "execute_result",
          "data": {
            "text/plain": [
              "(484.2105263157895, 2815.7894736842104)"
            ]
          },
          "metadata": {},
          "execution_count": 12
        }
      ],
      "source": [
        "m, b"
      ]
    },
    {
      "cell_type": "code",
      "execution_count": 13,
      "metadata": {
        "colab": {
          "base_uri": "https://localhost:8080/"
        },
        "id": "VgsgLGaoXH2D",
        "outputId": "c5844df8-71f4-4967-aba6-9969fa9d1324"
      },
      "outputs": [
        {
          "output_type": "execute_result",
          "data": {
            "text/plain": [
              "([0, 21], list)"
            ]
          },
          "metadata": {},
          "execution_count": 13
        }
      ],
      "source": [
        "## vamos criar uma lista de valores de X para plotar no gráfico\n",
        "## Lembrando que para plotar uma reta precisamos apenas de dois pontos.\n",
        "\n",
        "X_values = [np.min(X) - 1, np.max(X) + 1]\n",
        "X_values, type(X_values)"
      ]
    },
    {
      "cell_type": "code",
      "execution_count": 14,
      "metadata": {
        "colab": {
          "base_uri": "https://localhost:8080/"
        },
        "id": "jitiNqXyXH2E",
        "outputId": "9c6b81d2-0955-409c-aaf2-85fca5eae160"
      },
      "outputs": [
        {
          "output_type": "stream",
          "name": "stdout",
          "text": [
            "2815.7894736842104\n",
            "12984.210526315788\n"
          ]
        }
      ],
      "source": [
        "## Modo convencional\n",
        "for x_val in X_values:\n",
        "     print(m * x_val + b)"
      ]
    },
    {
      "cell_type": "code",
      "execution_count": 15,
      "metadata": {
        "colab": {
          "base_uri": "https://localhost:8080/"
        },
        "id": "NBoROtcQXH2E",
        "outputId": "72a148ee-0012-4a23-8dad-bff10cb45928"
      },
      "outputs": [
        {
          "output_type": "execute_result",
          "data": {
            "text/plain": [
              "([2815.7894736842104, 12984.210526315788], list)"
            ]
          },
          "metadata": {},
          "execution_count": 15
        }
      ],
      "source": [
        "y_values = [m * x_val + b for x_val in X_values]\n",
        "y_values, type(y_values)"
      ]
    },
    {
      "cell_type": "code",
      "execution_count": 16,
      "metadata": {
        "colab": {
          "base_uri": "https://localhost:8080/"
        },
        "id": "bfgsOEeDXH2E",
        "outputId": "c0050568-b2a2-4055-ea2f-f9e446e1b82c"
      },
      "outputs": [
        {
          "output_type": "stream",
          "name": "stdout",
          "text": [
            "['Solarize_Light2', '_classic_test_patch', '_mpl-gallery', '_mpl-gallery-nogrid', 'bmh', 'classic', 'dark_background', 'fast', 'fivethirtyeight', 'ggplot', 'grayscale', 'seaborn-v0_8', 'seaborn-v0_8-bright', 'seaborn-v0_8-colorblind', 'seaborn-v0_8-dark', 'seaborn-v0_8-dark-palette', 'seaborn-v0_8-darkgrid', 'seaborn-v0_8-deep', 'seaborn-v0_8-muted', 'seaborn-v0_8-notebook', 'seaborn-v0_8-paper', 'seaborn-v0_8-pastel', 'seaborn-v0_8-poster', 'seaborn-v0_8-talk', 'seaborn-v0_8-ticks', 'seaborn-v0_8-white', 'seaborn-v0_8-whitegrid', 'tableau-colorblind10']\n"
          ]
        }
      ],
      "source": [
        "print(plt.style.available)"
      ]
    },
    {
      "cell_type": "code",
      "execution_count": 17,
      "metadata": {
        "colab": {
          "base_uri": "https://localhost:8080/",
          "height": 354
        },
        "id": "7VbFtzzHXH2F",
        "outputId": "a76015f8-05ab-4971-8c1e-c3eaaf747abb"
      },
      "outputs": [
        {
          "output_type": "display_data",
          "data": {
            "text/plain": [
              "<Figure size 1440x400 with 1 Axes>"
            ],
            "image/png": "[encoded data removed]"
          },
          "metadata": {}
        }
      ],
      "source": [
        "plt.style.use(\"classic\")\n",
        "\n",
        "plt.figure(figsize = (18, 5))\n",
        "\n",
        "plt.title(\"Salário + Equação\")\n",
        "plt.plot(X, y, color = 'black', marker = 'o', label = 'Salários')\n",
        "plt.plot(X_values, y_values, color = 'red', linestyle = '-.',\n",
        "         label = \"Reta: y = {:.2f}x + {:.2f}\".format(m, b))\n",
        "\n",
        "plt.legend(loc=\"upper left\")\n",
        "plt.tight_layout()\n",
        "plt.show()"
      ]
    },
    {
      "cell_type": "markdown",
      "metadata": {
        "id": "gbcyYL5gXH2F"
      },
      "source": [
        "# Parte 3 : Treinando um regressor e plotando a reta no gráfico"
      ]
    },
    {
      "cell_type": "code",
      "execution_count": 18,
      "metadata": {
        "id": "V2Zuhnc7XH2F"
      },
      "outputs": [],
      "source": [
        "from sklearn.model_selection import train_test_split\n",
        "from sklearn.linear_model import LinearRegression"
      ]
    },
    {
      "cell_type": "code",
      "execution_count": 19,
      "metadata": {
        "colab": {
          "base_uri": "https://localhost:8080/"
        },
        "id": "sbRryselXH2G",
        "outputId": "fe6c1f3d-2160-421d-f337-b1234097c1cb"
      },
      "outputs": [
        {
          "output_type": "execute_result",
          "data": {
            "text/plain": [
              "(array([ 1,  2,  3,  4,  5,  6,  7,  8,  9, 10, 11, 12, 13, 14, 15, 16, 17,\n",
              "        18, 19, 20]),\n",
              " array([ 3300,  3500,  3600,  4000,  4100,  4500,  5000,  5500,  5580,\n",
              "         6000,  6250,  6300,  6380,  6500,  8000,  8500,  9000, 10500,\n",
              "        12000, 12500]))"
            ]
          },
          "metadata": {},
          "execution_count": 19
        }
      ],
      "source": [
        "X, y"
      ]
    },
    {
      "cell_type": "code",
      "execution_count": 23,
      "metadata": {
        "id": "kTtx9FV1XH2G"
      },
      "outputs": [],
      "source": [
        "X_train, X_test, y_train, y_test = train_test_split(X, y, test_size = 0.2, random_state=42)"
      ]
    },
    {
      "cell_type": "code",
      "source": [
        "X_train, X_test"
      ],
      "metadata": {
        "colab": {
          "base_uri": "https://localhost:8080/"
        },
        "id": "S7c8hsxSXfoy",
        "outputId": "5991d9fd-7516-4840-a3ee-062f9275ce65"
      },
      "execution_count": 25,
      "outputs": [
        {
          "output_type": "execute_result",
          "data": {
            "text/plain": [
              "(array([ 9,  6, 12,  4, 19, 17, 14,  3, 10, 20,  5, 13,  8, 11, 15,  7]),\n",
              " array([ 1, 18, 16,  2]))"
            ]
          },
          "metadata": {},
          "execution_count": 25
        }
      ]
    },
    {
      "cell_type": "code",
      "source": [
        "y_train, y_test"
      ],
      "metadata": {
        "colab": {
          "base_uri": "https://localhost:8080/"
        },
        "id": "xZ4DovLLXfso",
        "outputId": "5f950a50-6523-4126-c600-8339a2733464"
      },
      "execution_count": 26,
      "outputs": [
        {
          "output_type": "execute_result",
          "data": {
            "text/plain": [
              "(array([ 5580,  4500,  6300,  4000, 12000,  9000,  6500,  3600,  6000,\n",
              "        12500,  4100,  6380,  5500,  6250,  8000,  5000]),\n",
              " array([ 3300, 10500,  8500,  3500]))"
            ]
          },
          "metadata": {},
          "execution_count": 26
        }
      ]
    },
    {
      "cell_type": "code",
      "source": [
        "# Vamos construir a reta com base nesses dados\n",
        "### Dados de Teste\n",
        "\n",
        "m_test = ( (max(y) - min(y))  / (max(X_test) - min(X_test)))\n",
        "m_test"
      ],
      "metadata": {
        "colab": {
          "base_uri": "https://localhost:8080/"
        },
        "id": "6rEiYXfnXfwS",
        "outputId": "44509575-a474-4fc6-ed4f-03882f916457"
      },
      "execution_count": 27,
      "outputs": [
        {
          "output_type": "execute_result",
          "data": {
            "text/plain": [
              "541.1764705882352"
            ]
          },
          "metadata": {},
          "execution_count": 27
        }
      ]
    },
    {
      "cell_type": "code",
      "execution_count": 29,
      "metadata": {
        "colab": {
          "base_uri": "https://localhost:8080/"
        },
        "id": "g9c7tXaCXH2G",
        "outputId": "62f175c4-99dc-4246-8a23-8e9c75c47d14"
      },
      "outputs": [
        {
          "output_type": "execute_result",
          "data": {
            "text/plain": [
              "2815.7894736842104"
            ]
          },
          "metadata": {},
          "execution_count": 29
        }
      ],
      "source": [
        "b_test = np.min(y_test) - m * np.min(X_test)\n",
        "b_test"
      ]
    },
    {
      "cell_type": "code",
      "execution_count": 31,
      "metadata": {
        "colab": {
          "base_uri": "https://localhost:8080/"
        },
        "id": "hDHhtuhiXH2G",
        "outputId": "871b3b62-5cf8-4297-a32f-192bc9c1493e"
      },
      "outputs": [
        {
          "output_type": "execute_result",
          "data": {
            "text/plain": [
              "(484.2105263157895, 2815.7894736842104, 541.1764705882352, 2815.7894736842104)"
            ]
          },
          "metadata": {},
          "execution_count": 31
        }
      ],
      "source": [
        "m, b, m_test, b_test"
      ]
    },
    {
      "cell_type": "code",
      "execution_count": 32,
      "metadata": {
        "colab": {
          "base_uri": "https://localhost:8080/"
        },
        "id": "1_b8ZN7rXH2H",
        "outputId": "7b504d24-3245-4c67-ec4d-0ad733194e6b"
      },
      "outputs": [
        {
          "output_type": "execute_result",
          "data": {
            "text/plain": [
              "([0, 19], list)"
            ]
          },
          "metadata": {},
          "execution_count": 32
        }
      ],
      "source": [
        "X_values_test = [np.min(X_test) - 1, np.max(X_test) + 1]\n",
        "X_values_test, type(X_values_test)"
      ]
    },
    {
      "cell_type": "code",
      "source": [
        "y_values_test = [m_test * x_val_test + b_test for x_val_test in X_values_test]\n",
        "y_values_test, type(y_values_test)"
      ],
      "metadata": {
        "colab": {
          "base_uri": "https://localhost:8080/"
        },
        "id": "p-eIxVFPY42S",
        "outputId": "f8cf4661-0b4c-428c-9159-4aec2de8030b"
      },
      "execution_count": 33,
      "outputs": [
        {
          "output_type": "execute_result",
          "data": {
            "text/plain": [
              "([2815.7894736842104, 13098.14241486068], list)"
            ]
          },
          "metadata": {},
          "execution_count": 33
        }
      ]
    },
    {
      "cell_type": "code",
      "source": [
        "plt.style.use(\"classic\")\n",
        "\n",
        "plt.figure(figsize = (18, 5))\n",
        "\n",
        "plt.title(\"Salário + Equações\")\n",
        "plt.plot(X, y, color = 'black', marker = 'o', label = 'Salários')\n",
        "\n",
        "## Reta sem o Regressor Linear\n",
        "plt.plot(X_values, y_values, color = 'red', linestyle = '-',\n",
        "         label = \"Reta: y = {:.2f}x + {:.2f}\".format(m, b))\n",
        "\n",
        "## Reta com o Regressor Linear\n",
        "plt.plot(X_values_test, y_values_test, color = 'purple', linestyle = '--',\n",
        "         label = \"Reta Regressor: y = {:.2f}x + {:.2f}\".format(m_test, b_test))\n",
        "\n",
        "\n",
        "plt.legend(loc=\"upper left\")\n",
        "plt.tight_layout()\n",
        "plt.show()"
      ],
      "metadata": {
        "colab": {
          "base_uri": "https://localhost:8080/",
          "height": 354
        },
        "id": "RJQMzj0tY47M",
        "outputId": "17ebea34-2388-4ac8-84b5-b64edb4b07f0"
      },
      "execution_count": 36,
      "outputs": [
        {
          "output_type": "display_data",
          "data": {
            "text/plain": [
              "<Figure size 1440x400 with 1 Axes>"
            ],
            "image/png": "[encoded data removed]"
          },
          "metadata": {}
        }
      ]
    }
  ],
  "metadata": {
    "kernelspec": {
      "display_name": "Python 3",
      "language": "python",
      "name": "python3"
    },
    "language_info": {
      "codemirror_mode": {
        "name": "ipython",
        "version": 3
      },
      "file_extension": ".py",
      "mimetype": "text/x-python",
      "name": "python",
      "nbconvert_exporter": "python",
      "pygments_lexer": "ipython3",
      "version": "3.10.11"
    },
    "orig_nbformat": 4,
    "colab": {
      "provenance": []
    }
  },
  "nbformat": 4,
  "nbformat_minor": 0
}